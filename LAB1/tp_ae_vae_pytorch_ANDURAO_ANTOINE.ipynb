{
 "cells": [
  {
   "cell_type": "markdown",
   "metadata": {
    "id": "TdpPHz2Lp6VD"
   },
   "source": [
    "# TP Coding autoencoders and variational autoencoders in Pytorch\n",
    "\n",
    "\n",
    "Author : Alasdair Newson\n",
    "\n",
    "alasdair.newson@telecom-paris.fr\n",
    "\n",
    "## Objective:\n",
    "\n",
    "The goal of this TP is to explore autoencoders and variational autoencoders applied to a simple dataset. In this first part, we will look at an autoencoder applied to MNIST. We recall that an autoencoder is a neural network with the following general architecture:\n",
    "\n",
    "\n",
    "![AUTOENCODER](https://perso.telecom-paristech.fr/anewson/doc/images/autoencoder_illustration_2.png)\n",
    "\n",
    "The tensor $z$ in the middle of the network is called a __latent code__, and it belongs to the latent space. It is this latent space which is interesting in autoencoders (for image synthesis, editing, etc).\n",
    "\n",
    "### Your task:\n",
    "You need to add the missing parts in the code (parts between # --- START CODE HERE and # --- END CODE HERE or # FILL IN CODE)\n",
    "\n",
    "\n",
    "First of all, let's load some packages"
   ]
  },
  {
   "cell_type": "code",
   "execution_count": 1,
   "metadata": {
    "id": "JqNeIJ8Op8Ao"
   },
   "outputs": [],
   "source": [
    "import torch\n",
    "import torch.nn as nn\n",
    "import torch.nn.functional as F\n",
    "import torch.optim as optim\n",
    "from torchvision import datasets, transforms\n",
    "from torch.autograd import Variable\n",
    "from torchvision.utils import save_image\n",
    "\n",
    "import pdb\n",
    "import numpy as np\n",
    "import matplotlib.pyplot as plt\n",
    "\n",
    "def pytorch_to_numpy(x):\n",
    "  return np.array(x.detach().numpy())"
   ]
  },
  {
   "cell_type": "markdown",
   "metadata": {
    "id": "Hyj5dj_eui9D"
   },
   "source": [
    "First, we load the mnist dataset."
   ]
  },
  {
   "cell_type": "code",
   "execution_count": 2,
   "metadata": {
    "id": "4YPLKlPrufSk"
   },
   "outputs": [],
   "source": [
    "\n",
    "batch_size = 128\n",
    "\n",
    "# MNIST Dataset\n",
    "mnist_trainset = datasets.MNIST(root='./mnist_data/', train=True, transform=transforms.ToTensor(), download=True)\n",
    "mnist_testset = datasets.MNIST(root='./mnist_data/', train=False, transform=transforms.ToTensor(), download=False)\n",
    "\n",
    "#create data loader with smaller dataset size\n",
    "max_mnist_size = 1000\n",
    "mnist_trainset_reduced = torch.utils.data.random_split(mnist_trainset, [max_mnist_size, len(mnist_trainset)-max_mnist_size])[0] \n",
    "mnist_train_loader = torch.utils.data.DataLoader(mnist_trainset_reduced, batch_size=batch_size, shuffle=True,drop_last=True)\n",
    "\n",
    "# download test dataset\n",
    "max_mnist_size = 512\n",
    "mnist_testset_reduced = torch.utils.data.random_split(mnist_testset, [max_mnist_size, len(mnist_testset)-max_mnist_size])[0] \n",
    "mnist_test_loader = torch.utils.data.DataLoader(mnist_testset_reduced, batch_size=batch_size, shuffle=True,drop_last=True)\n"
   ]
  },
  {
   "cell_type": "code",
   "execution_count": 3,
   "metadata": {
    "id": "r7YhlBT2PN9I"
   },
   "outputs": [
    {
     "name": "stderr",
     "output_type": "stream",
     "text": [
      "c:\\users\\antoine\\appdata\\local\\programs\\python\\python39\\lib\\site-packages\\torchvision\\datasets\\mnist.py:75: UserWarning: train_data has been renamed data\n",
      "  warnings.warn(\"train_data has been renamed data\")\n"
     ]
    },
    {
     "data": {
      "text/plain": [
       "torch.Size([60000, 28, 28])"
      ]
     },
     "execution_count": 3,
     "metadata": {},
     "output_type": "execute_result"
    }
   ],
   "source": [
    "mnist_trainset_reduced.dataset.train_data.shape"
   ]
  },
  {
   "cell_type": "markdown",
   "metadata": {
    "id": "t-bkK4ktwfvC"
   },
   "source": [
    "# 1 Vanilla Autoencoder\n",
    "\n",
    "Now, we define the general parameters of the autoencoder"
   ]
  },
  {
   "cell_type": "code",
   "execution_count": 4,
   "metadata": {
    "id": "mD56EDzbvUxq"
   },
   "outputs": [],
   "source": [
    "# autoencoder parameters\n",
    "n_rows = mnist_trainset_reduced.dataset.train_data.shape[1]\n",
    "n_cols = mnist_trainset_reduced.dataset.train_data.shape[2]\n",
    "n_channels = 1\n",
    "n_pixels = n_rows*n_cols\n",
    "\n",
    "img_shape = (n_rows, n_cols, n_channels)\n",
    "n_epochs = 150"
   ]
  },
  {
   "cell_type": "markdown",
   "metadata": {
    "id": "6jLa2-jQwxSI"
   },
   "source": [
    "Now, define the autoencoder architecture. In the first part, we will use the following MLP architecture :\n",
    "\n",
    "Encoder :\n",
    "- Flatten input\n",
    "- Dense layer, output size h_dim_1 + ReLU\n",
    "- Dense layer, output size h_dim_2 + ReLU\n",
    "- Dense layer, output size z_dim (no non-linearity)\n",
    "\n",
    "Decoder :\n",
    "- Dense layer, output size h_dim_2 + ReLU\n",
    "- Dense layer, output size h_dim_1 + ReLU\n",
    "- Dense layer, output size x_dim + Sigmoid Activation\n",
    "- Reshape, to size $28\\times 28\\times 1$\n",
    "\n",
    "For the Reshape operation, use the ```A.view(dim_1,dim_2,...)``` function, where ```A``` is your tensor."
   ]
  },
  {
   "cell_type": "code",
   "execution_count": 5,
   "metadata": {
    "id": "tEuZfnUlXxMl"
   },
   "outputs": [],
   "source": [
    "class AE(torch.nn.Module ):\n",
    "  def __init__(self, x_dim, h_dim1, h_dim2, z_dim,n_rows,n_cols,n_channels):\n",
    "    super(AE, self).__init__()\n",
    "\n",
    "    self.n_rows = n_rows\n",
    "    self.n_cols = n_cols\n",
    "    self.n_channels = n_channels\n",
    "    self.n_pixels = (self.n_rows)*(self.n_cols)\n",
    "    self.z_dim = z_dim\n",
    "\n",
    "    # Encoder part\n",
    "    self.fc1 = nn.Linear(x_dim, h_dim1) # FILL IN CODE HERE\n",
    "    self.fc2 = nn.Linear(h_dim1, h_dim2) # FILL IN CODE HERE\n",
    "    self.fc3 = nn.Linear(h_dim2, z_dim) # FILL IN CODE HERE\n",
    "\n",
    "    # Decoder part\n",
    "    self.fc4 = nn.Linear(z_dim, h_dim2) # FILL IN CODE HERE\n",
    "    self.fc5 = nn.Linear(h_dim2, h_dim1) # FILL IN CODE HERE\n",
    "    self.fc6 = nn.Linear(h_dim1, x_dim) # FILL IN CODE HERE\n",
    "\n",
    "  def encoder(self, x):\n",
    "    h = torch.relu(self.fc1(x.view(-1, self.n_pixels * self.n_channels))) # FILL IN CODE HERE\n",
    "    h = torch.relu(self.fc2(h)) # FILL IN CODE HERE\n",
    "    return self.fc3(h) # FILL IN CODE HERE\n",
    "\n",
    "  def decoder(self, z):\n",
    "    h = torch.relu(self.fc4(z)) # FILL IN CODE HERE\n",
    "    h = torch.relu(self.fc5(h)) # FILL IN CODE HERE\n",
    "    return torch.sigmoid(self.fc6(h)).view(-1, self.n_channels, self.n_rows, self.n_cols) # FILL IN CODE HERE\n",
    "\n",
    "  def forward(self, x):\n",
    "    y = self.encoder(x) # FILL IN CODE HERE\n",
    "    return self.decoder(y) # FILL IN CODE HERE\n",
    "\n",
    "  def loss_function(self, x, y):\n",
    "    bce_loss = nn.BCELoss(reduction='sum')(y, x) # FILL IN CODE HERE\n",
    "    return torch.mean(bce_loss)"
   ]
  },
  {
   "cell_type": "code",
   "execution_count": 6,
   "metadata": {
    "id": "oV40vRMQRoG1"
   },
   "outputs": [],
   "source": [
    "# create model\n",
    "ae_dim_1 = 512\n",
    "ae_dim_2 = 256\n",
    "z_dim = 10\n",
    "ae_model = AE(x_dim=n_pixels, h_dim1= ae_dim_1, h_dim2=ae_dim_2, z_dim=z_dim,n_rows=n_rows,n_cols=n_cols,n_channels=n_channels)\n",
    "ae_optimizer = optim.Adam(ae_model.parameters())"
   ]
  },
  {
   "cell_type": "markdown",
   "metadata": {
    "id": "-659aM36xvXX"
   },
   "source": [
    "Now, define a generic function to train the model for one epoch"
   ]
  },
  {
   "cell_type": "code",
   "execution_count": 7,
   "metadata": {
    "id": "wfqX6Brlxjyi"
   },
   "outputs": [],
   "source": [
    "def train_ae(ae_model,data_train_loader,epoch):\n",
    "\ttrain_loss = 0\n",
    "\tfor batch_idx, (data, _) in enumerate(data_train_loader):\n",
    "\t\tae_optimizer.zero_grad()\n",
    "\t\t\n",
    "\t\ty =  ae_model(data) # FILL IN CODE HERE\n",
    "\t\tloss_ae = ae_model.loss_function(data, y) # FILL IN CODE HERE\n",
    "  \n",
    "\t\tloss_ae.backward()\n",
    "\t\ttrain_loss += loss_ae.item()\n",
    "\t\tae_optimizer.step()\n",
    "\t\t\n",
    "\t\tif batch_idx % 100 == 0:\n",
    "\t\t\tprint('Train Epoch: {} [{}/{} ({:.0f}%)]\\tLoss: {:.6f}'.format(\n",
    "\t\t\t\tepoch, batch_idx * len(data), len(data_train_loader.dataset),\n",
    "\t\t\t\t100. * batch_idx / len(data_train_loader), loss_ae.item() / len(data)))\n",
    "\tprint('====> Epoch: {} Average loss: {:.4f}'.format(epoch, train_loss / len(data_train_loader.dataset)))\n"
   ]
  },
  {
   "cell_type": "markdown",
   "metadata": {
    "id": "w3EbmswSzJdK"
   },
   "source": [
    "We define a function to carry out testing on the autoencoder model"
   ]
  },
  {
   "cell_type": "code",
   "execution_count": 8,
   "metadata": {
    "id": "11q_0PSibZk-"
   },
   "outputs": [
    {
     "name": "stdout",
     "output_type": "stream",
     "text": [
      "Train Epoch: 0 [0/1000 (0%)]\tLoss: 543.492920\n",
      "====> Epoch: 0 Average loss: 440.3925\n",
      "Train Epoch: 1 [0/1000 (0%)]\tLoss: 317.627319\n",
      "====> Epoch: 1 Average loss: 242.6561\n",
      "Train Epoch: 2 [0/1000 (0%)]\tLoss: 218.797897\n",
      "====> Epoch: 2 Average loss: 203.7066\n",
      "Train Epoch: 3 [0/1000 (0%)]\tLoss: 223.929886\n",
      "====> Epoch: 3 Average loss: 190.3689\n",
      "Train Epoch: 4 [0/1000 (0%)]\tLoss: 209.600128\n",
      "====> Epoch: 4 Average loss: 185.7157\n",
      "Train Epoch: 5 [0/1000 (0%)]\tLoss: 208.065674\n",
      "====> Epoch: 5 Average loss: 182.9706\n",
      "Train Epoch: 6 [0/1000 (0%)]\tLoss: 207.735291\n",
      "====> Epoch: 6 Average loss: 181.0364\n",
      "Train Epoch: 7 [0/1000 (0%)]\tLoss: 204.374359\n",
      "====> Epoch: 7 Average loss: 179.0881\n",
      "Train Epoch: 8 [0/1000 (0%)]\tLoss: 202.866302\n",
      "====> Epoch: 8 Average loss: 177.5563\n",
      "Train Epoch: 9 [0/1000 (0%)]\tLoss: 194.491180\n",
      "====> Epoch: 9 Average loss: 175.0356\n",
      "Train Epoch: 10 [0/1000 (0%)]\tLoss: 189.338287\n",
      "====> Epoch: 10 Average loss: 172.6342\n",
      "Train Epoch: 11 [0/1000 (0%)]\tLoss: 189.625641\n",
      "====> Epoch: 11 Average loss: 170.3185\n",
      "Train Epoch: 12 [0/1000 (0%)]\tLoss: 184.627747\n",
      "====> Epoch: 12 Average loss: 167.5353\n",
      "Train Epoch: 13 [0/1000 (0%)]\tLoss: 181.249954\n",
      "====> Epoch: 13 Average loss: 164.7805\n",
      "Train Epoch: 14 [0/1000 (0%)]\tLoss: 183.901367\n",
      "====> Epoch: 14 Average loss: 161.5345\n",
      "Train Epoch: 15 [0/1000 (0%)]\tLoss: 180.186630\n",
      "====> Epoch: 15 Average loss: 157.9754\n",
      "Train Epoch: 16 [0/1000 (0%)]\tLoss: 178.342651\n",
      "====> Epoch: 16 Average loss: 154.7788\n",
      "Train Epoch: 17 [0/1000 (0%)]\tLoss: 171.320770\n",
      "====> Epoch: 17 Average loss: 149.8149\n",
      "Train Epoch: 18 [0/1000 (0%)]\tLoss: 164.137482\n",
      "====> Epoch: 18 Average loss: 144.4138\n",
      "Train Epoch: 19 [0/1000 (0%)]\tLoss: 169.804382\n",
      "====> Epoch: 19 Average loss: 139.4680\n",
      "Train Epoch: 20 [0/1000 (0%)]\tLoss: 152.706238\n",
      "====> Epoch: 20 Average loss: 135.0197\n",
      "Train Epoch: 21 [0/1000 (0%)]\tLoss: 145.884399\n",
      "====> Epoch: 21 Average loss: 131.7949\n",
      "Train Epoch: 22 [0/1000 (0%)]\tLoss: 153.159821\n",
      "====> Epoch: 22 Average loss: 127.7367\n",
      "Train Epoch: 23 [0/1000 (0%)]\tLoss: 134.884903\n",
      "====> Epoch: 23 Average loss: 123.4383\n",
      "Train Epoch: 24 [0/1000 (0%)]\tLoss: 133.358810\n",
      "====> Epoch: 24 Average loss: 122.0712\n",
      "Train Epoch: 25 [0/1000 (0%)]\tLoss: 128.823135\n",
      "====> Epoch: 25 Average loss: 119.2632\n",
      "Train Epoch: 26 [0/1000 (0%)]\tLoss: 135.112213\n",
      "====> Epoch: 26 Average loss: 117.7644\n",
      "Train Epoch: 27 [0/1000 (0%)]\tLoss: 123.969955\n",
      "====> Epoch: 27 Average loss: 115.1769\n",
      "Train Epoch: 28 [0/1000 (0%)]\tLoss: 127.548233\n",
      "====> Epoch: 28 Average loss: 113.8951\n",
      "Train Epoch: 29 [0/1000 (0%)]\tLoss: 125.482956\n",
      "====> Epoch: 29 Average loss: 111.6731\n",
      "Train Epoch: 30 [0/1000 (0%)]\tLoss: 121.275200\n",
      "====> Epoch: 30 Average loss: 111.5165\n",
      "Train Epoch: 31 [0/1000 (0%)]\tLoss: 121.222961\n",
      "====> Epoch: 31 Average loss: 110.0420\n",
      "Train Epoch: 32 [0/1000 (0%)]\tLoss: 118.401703\n",
      "====> Epoch: 32 Average loss: 107.9717\n",
      "Train Epoch: 33 [0/1000 (0%)]\tLoss: 118.421227\n",
      "====> Epoch: 33 Average loss: 106.6636\n",
      "Train Epoch: 34 [0/1000 (0%)]\tLoss: 121.700073\n",
      "====> Epoch: 34 Average loss: 105.3728\n",
      "Train Epoch: 35 [0/1000 (0%)]\tLoss: 120.312431\n",
      "====> Epoch: 35 Average loss: 105.1759\n",
      "Train Epoch: 36 [0/1000 (0%)]\tLoss: 113.851089\n",
      "====> Epoch: 36 Average loss: 103.0232\n",
      "Train Epoch: 37 [0/1000 (0%)]\tLoss: 110.198486\n",
      "====> Epoch: 37 Average loss: 102.3574\n",
      "Train Epoch: 38 [0/1000 (0%)]\tLoss: 110.072311\n",
      "====> Epoch: 38 Average loss: 101.1945\n",
      "Train Epoch: 39 [0/1000 (0%)]\tLoss: 107.359207\n",
      "====> Epoch: 39 Average loss: 100.5795\n",
      "Train Epoch: 40 [0/1000 (0%)]\tLoss: 111.855988\n",
      "====> Epoch: 40 Average loss: 99.4494\n",
      "Train Epoch: 41 [0/1000 (0%)]\tLoss: 108.892082\n",
      "====> Epoch: 41 Average loss: 99.1346\n",
      "Train Epoch: 42 [0/1000 (0%)]\tLoss: 111.708145\n",
      "====> Epoch: 42 Average loss: 96.9499\n",
      "Train Epoch: 43 [0/1000 (0%)]\tLoss: 108.635941\n",
      "====> Epoch: 43 Average loss: 96.6708\n",
      "Train Epoch: 44 [0/1000 (0%)]\tLoss: 104.926971\n",
      "====> Epoch: 44 Average loss: 95.9599\n",
      "Train Epoch: 45 [0/1000 (0%)]\tLoss: 106.482292\n",
      "====> Epoch: 45 Average loss: 95.7240\n",
      "Train Epoch: 46 [0/1000 (0%)]\tLoss: 107.741989\n",
      "====> Epoch: 46 Average loss: 95.0723\n",
      "Train Epoch: 47 [0/1000 (0%)]\tLoss: 100.502457\n",
      "====> Epoch: 47 Average loss: 94.0939\n",
      "Train Epoch: 48 [0/1000 (0%)]\tLoss: 106.189499\n",
      "====> Epoch: 48 Average loss: 93.3894\n",
      "Train Epoch: 49 [0/1000 (0%)]\tLoss: 107.284981\n",
      "====> Epoch: 49 Average loss: 93.6274\n",
      "Train Epoch: 50 [0/1000 (0%)]\tLoss: 102.300934\n",
      "====> Epoch: 50 Average loss: 92.6825\n",
      "Train Epoch: 51 [0/1000 (0%)]\tLoss: 99.473816\n",
      "====> Epoch: 51 Average loss: 91.1614\n",
      "Train Epoch: 52 [0/1000 (0%)]\tLoss: 102.061813\n",
      "====> Epoch: 52 Average loss: 90.7390\n",
      "Train Epoch: 53 [0/1000 (0%)]\tLoss: 103.408493\n",
      "====> Epoch: 53 Average loss: 91.1334\n",
      "Train Epoch: 54 [0/1000 (0%)]\tLoss: 99.971741\n",
      "====> Epoch: 54 Average loss: 89.7357\n",
      "Train Epoch: 55 [0/1000 (0%)]\tLoss: 102.787415\n",
      "====> Epoch: 55 Average loss: 89.9087\n",
      "Train Epoch: 56 [0/1000 (0%)]\tLoss: 103.877472\n",
      "====> Epoch: 56 Average loss: 89.1287\n",
      "Train Epoch: 57 [0/1000 (0%)]\tLoss: 100.821747\n",
      "====> Epoch: 57 Average loss: 88.5688\n",
      "Train Epoch: 58 [0/1000 (0%)]\tLoss: 98.423332\n",
      "====> Epoch: 58 Average loss: 87.6312\n",
      "Train Epoch: 59 [0/1000 (0%)]\tLoss: 93.958771\n",
      "====> Epoch: 59 Average loss: 87.2566\n",
      "Train Epoch: 60 [0/1000 (0%)]\tLoss: 98.234116\n",
      "====> Epoch: 60 Average loss: 86.8140\n",
      "Train Epoch: 61 [0/1000 (0%)]\tLoss: 93.724380\n",
      "====> Epoch: 61 Average loss: 85.7132\n",
      "Train Epoch: 62 [0/1000 (0%)]\tLoss: 97.835022\n",
      "====> Epoch: 62 Average loss: 85.9934\n",
      "Train Epoch: 63 [0/1000 (0%)]\tLoss: 94.973534\n",
      "====> Epoch: 63 Average loss: 85.4850\n",
      "Train Epoch: 64 [0/1000 (0%)]\tLoss: 93.699265\n",
      "====> Epoch: 64 Average loss: 84.4870\n",
      "Train Epoch: 65 [0/1000 (0%)]\tLoss: 92.657669\n",
      "====> Epoch: 65 Average loss: 84.2378\n",
      "Train Epoch: 66 [0/1000 (0%)]\tLoss: 88.851440\n",
      "====> Epoch: 66 Average loss: 84.2268\n",
      "Train Epoch: 67 [0/1000 (0%)]\tLoss: 91.698601\n",
      "====> Epoch: 67 Average loss: 84.1943\n",
      "Train Epoch: 68 [0/1000 (0%)]\tLoss: 90.109863\n",
      "====> Epoch: 68 Average loss: 82.7499\n",
      "Train Epoch: 69 [0/1000 (0%)]\tLoss: 93.558411\n",
      "====> Epoch: 69 Average loss: 82.7989\n",
      "Train Epoch: 70 [0/1000 (0%)]\tLoss: 95.277168\n",
      "====> Epoch: 70 Average loss: 82.1495\n",
      "Train Epoch: 71 [0/1000 (0%)]\tLoss: 90.890541\n",
      "====> Epoch: 71 Average loss: 82.0338\n",
      "Train Epoch: 72 [0/1000 (0%)]\tLoss: 90.785423\n",
      "====> Epoch: 72 Average loss: 82.0474\n",
      "Train Epoch: 73 [0/1000 (0%)]\tLoss: 90.148262\n",
      "====> Epoch: 73 Average loss: 81.4436\n",
      "Train Epoch: 74 [0/1000 (0%)]\tLoss: 87.899551\n",
      "====> Epoch: 74 Average loss: 81.1100\n",
      "Train Epoch: 75 [0/1000 (0%)]\tLoss: 90.127312\n",
      "====> Epoch: 75 Average loss: 80.9576\n",
      "Train Epoch: 76 [0/1000 (0%)]\tLoss: 86.349831\n",
      "====> Epoch: 76 Average loss: 80.8216\n",
      "Train Epoch: 77 [0/1000 (0%)]\tLoss: 88.494339\n",
      "====> Epoch: 77 Average loss: 79.8313\n",
      "Train Epoch: 78 [0/1000 (0%)]\tLoss: 86.045044\n",
      "====> Epoch: 78 Average loss: 80.0413\n",
      "Train Epoch: 79 [0/1000 (0%)]\tLoss: 88.401588\n",
      "====> Epoch: 79 Average loss: 78.9559\n",
      "Train Epoch: 80 [0/1000 (0%)]\tLoss: 91.919403\n",
      "====> Epoch: 80 Average loss: 78.4679\n",
      "Train Epoch: 81 [0/1000 (0%)]\tLoss: 89.437866\n",
      "====> Epoch: 81 Average loss: 78.0466\n",
      "Train Epoch: 82 [0/1000 (0%)]\tLoss: 89.033264\n",
      "====> Epoch: 82 Average loss: 77.8836\n",
      "Train Epoch: 83 [0/1000 (0%)]\tLoss: 85.899635\n",
      "====> Epoch: 83 Average loss: 77.6216\n",
      "Train Epoch: 84 [0/1000 (0%)]\tLoss: 84.110123\n",
      "====> Epoch: 84 Average loss: 76.7083\n",
      "Train Epoch: 85 [0/1000 (0%)]\tLoss: 84.225555\n",
      "====> Epoch: 85 Average loss: 76.8033\n",
      "Train Epoch: 86 [0/1000 (0%)]\tLoss: 86.811356\n",
      "====> Epoch: 86 Average loss: 76.6062\n",
      "Train Epoch: 87 [0/1000 (0%)]\tLoss: 83.823936\n",
      "====> Epoch: 87 Average loss: 75.9434\n",
      "Train Epoch: 88 [0/1000 (0%)]\tLoss: 80.894928\n",
      "====> Epoch: 88 Average loss: 75.9970\n",
      "Train Epoch: 89 [0/1000 (0%)]\tLoss: 82.102341\n",
      "====> Epoch: 89 Average loss: 75.4575\n",
      "Train Epoch: 90 [0/1000 (0%)]\tLoss: 86.734192\n",
      "====> Epoch: 90 Average loss: 75.6061\n",
      "Train Epoch: 91 [0/1000 (0%)]\tLoss: 77.962303\n",
      "====> Epoch: 91 Average loss: 74.7894\n",
      "Train Epoch: 92 [0/1000 (0%)]\tLoss: 82.711037\n",
      "====> Epoch: 92 Average loss: 74.6276\n",
      "Train Epoch: 93 [0/1000 (0%)]\tLoss: 84.398529\n",
      "====> Epoch: 93 Average loss: 74.5811\n",
      "Train Epoch: 94 [0/1000 (0%)]\tLoss: 80.863541\n",
      "====> Epoch: 94 Average loss: 74.1968\n",
      "Train Epoch: 95 [0/1000 (0%)]\tLoss: 80.621811\n",
      "====> Epoch: 95 Average loss: 73.4100\n",
      "Train Epoch: 96 [0/1000 (0%)]\tLoss: 82.868027\n",
      "====> Epoch: 96 Average loss: 72.8944\n",
      "Train Epoch: 97 [0/1000 (0%)]\tLoss: 81.071548\n"
     ]
    },
    {
     "name": "stdout",
     "output_type": "stream",
     "text": [
      "====> Epoch: 97 Average loss: 72.8560\n",
      "Train Epoch: 98 [0/1000 (0%)]\tLoss: 80.197731\n",
      "====> Epoch: 98 Average loss: 72.8587\n",
      "Train Epoch: 99 [0/1000 (0%)]\tLoss: 79.570625\n",
      "====> Epoch: 99 Average loss: 72.3165\n",
      "Train Epoch: 100 [0/1000 (0%)]\tLoss: 80.638931\n",
      "====> Epoch: 100 Average loss: 72.0897\n",
      "Train Epoch: 101 [0/1000 (0%)]\tLoss: 77.531204\n",
      "====> Epoch: 101 Average loss: 71.6034\n",
      "Train Epoch: 102 [0/1000 (0%)]\tLoss: 80.936905\n",
      "====> Epoch: 102 Average loss: 72.0519\n",
      "Train Epoch: 103 [0/1000 (0%)]\tLoss: 81.303459\n",
      "====> Epoch: 103 Average loss: 72.2459\n",
      "Train Epoch: 104 [0/1000 (0%)]\tLoss: 77.379211\n",
      "====> Epoch: 104 Average loss: 70.6967\n",
      "Train Epoch: 105 [0/1000 (0%)]\tLoss: 78.952896\n",
      "====> Epoch: 105 Average loss: 70.7598\n",
      "Train Epoch: 106 [0/1000 (0%)]\tLoss: 80.536392\n",
      "====> Epoch: 106 Average loss: 70.5242\n",
      "Train Epoch: 107 [0/1000 (0%)]\tLoss: 82.234421\n",
      "====> Epoch: 107 Average loss: 69.9578\n",
      "Train Epoch: 108 [0/1000 (0%)]\tLoss: 78.563889\n",
      "====> Epoch: 108 Average loss: 70.0906\n",
      "Train Epoch: 109 [0/1000 (0%)]\tLoss: 77.829483\n",
      "====> Epoch: 109 Average loss: 69.6661\n",
      "Train Epoch: 110 [0/1000 (0%)]\tLoss: 75.132233\n",
      "====> Epoch: 110 Average loss: 69.4653\n",
      "Train Epoch: 111 [0/1000 (0%)]\tLoss: 77.303970\n",
      "====> Epoch: 111 Average loss: 69.2119\n",
      "Train Epoch: 112 [0/1000 (0%)]\tLoss: 76.399750\n",
      "====> Epoch: 112 Average loss: 69.2514\n",
      "Train Epoch: 113 [0/1000 (0%)]\tLoss: 73.754425\n",
      "====> Epoch: 113 Average loss: 68.7168\n",
      "Train Epoch: 114 [0/1000 (0%)]\tLoss: 75.284096\n",
      "====> Epoch: 114 Average loss: 68.1778\n",
      "Train Epoch: 115 [0/1000 (0%)]\tLoss: 80.776741\n",
      "====> Epoch: 115 Average loss: 68.8361\n",
      "Train Epoch: 116 [0/1000 (0%)]\tLoss: 73.946953\n",
      "====> Epoch: 116 Average loss: 68.2938\n",
      "Train Epoch: 117 [0/1000 (0%)]\tLoss: 75.636322\n",
      "====> Epoch: 117 Average loss: 67.5870\n",
      "Train Epoch: 118 [0/1000 (0%)]\tLoss: 77.677002\n",
      "====> Epoch: 118 Average loss: 67.8059\n",
      "Train Epoch: 119 [0/1000 (0%)]\tLoss: 73.596939\n",
      "====> Epoch: 119 Average loss: 67.5712\n",
      "Train Epoch: 120 [0/1000 (0%)]\tLoss: 76.015518\n",
      "====> Epoch: 120 Average loss: 67.0313\n",
      "Train Epoch: 121 [0/1000 (0%)]\tLoss: 76.817322\n",
      "====> Epoch: 121 Average loss: 66.1678\n",
      "Train Epoch: 122 [0/1000 (0%)]\tLoss: 75.939835\n",
      "====> Epoch: 122 Average loss: 66.5318\n",
      "Train Epoch: 123 [0/1000 (0%)]\tLoss: 74.724174\n",
      "====> Epoch: 123 Average loss: 66.4639\n",
      "Train Epoch: 124 [0/1000 (0%)]\tLoss: 75.099106\n",
      "====> Epoch: 124 Average loss: 65.9809\n",
      "Train Epoch: 125 [0/1000 (0%)]\tLoss: 75.144043\n",
      "====> Epoch: 125 Average loss: 65.9840\n",
      "Train Epoch: 126 [0/1000 (0%)]\tLoss: 75.939255\n",
      "====> Epoch: 126 Average loss: 65.6298\n",
      "Train Epoch: 127 [0/1000 (0%)]\tLoss: 71.640831\n",
      "====> Epoch: 127 Average loss: 65.3191\n",
      "Train Epoch: 128 [0/1000 (0%)]\tLoss: 71.743080\n",
      "====> Epoch: 128 Average loss: 65.4373\n",
      "Train Epoch: 129 [0/1000 (0%)]\tLoss: 70.800049\n",
      "====> Epoch: 129 Average loss: 65.3849\n",
      "Train Epoch: 130 [0/1000 (0%)]\tLoss: 72.458359\n",
      "====> Epoch: 130 Average loss: 65.2326\n",
      "Train Epoch: 131 [0/1000 (0%)]\tLoss: 74.334824\n",
      "====> Epoch: 131 Average loss: 64.7189\n",
      "Train Epoch: 132 [0/1000 (0%)]\tLoss: 74.492332\n",
      "====> Epoch: 132 Average loss: 64.8342\n",
      "Train Epoch: 133 [0/1000 (0%)]\tLoss: 71.058517\n",
      "====> Epoch: 133 Average loss: 64.6930\n",
      "Train Epoch: 134 [0/1000 (0%)]\tLoss: 70.457443\n",
      "====> Epoch: 134 Average loss: 64.0898\n",
      "Train Epoch: 135 [0/1000 (0%)]\tLoss: 71.055573\n",
      "====> Epoch: 135 Average loss: 64.4170\n",
      "Train Epoch: 136 [0/1000 (0%)]\tLoss: 71.773682\n",
      "====> Epoch: 136 Average loss: 63.7693\n",
      "Train Epoch: 137 [0/1000 (0%)]\tLoss: 69.495331\n",
      "====> Epoch: 137 Average loss: 63.6343\n",
      "Train Epoch: 138 [0/1000 (0%)]\tLoss: 70.185623\n",
      "====> Epoch: 138 Average loss: 63.4298\n",
      "Train Epoch: 139 [0/1000 (0%)]\tLoss: 69.238174\n",
      "====> Epoch: 139 Average loss: 63.1091\n",
      "Train Epoch: 140 [0/1000 (0%)]\tLoss: 66.191696\n",
      "====> Epoch: 140 Average loss: 62.6673\n",
      "Train Epoch: 141 [0/1000 (0%)]\tLoss: 69.746056\n",
      "====> Epoch: 141 Average loss: 63.1600\n",
      "Train Epoch: 142 [0/1000 (0%)]\tLoss: 75.455391\n",
      "====> Epoch: 142 Average loss: 63.1970\n",
      "Train Epoch: 143 [0/1000 (0%)]\tLoss: 71.007935\n",
      "====> Epoch: 143 Average loss: 62.2983\n",
      "Train Epoch: 144 [0/1000 (0%)]\tLoss: 69.174271\n",
      "====> Epoch: 144 Average loss: 62.3521\n",
      "Train Epoch: 145 [0/1000 (0%)]\tLoss: 64.093521\n",
      "====> Epoch: 145 Average loss: 62.0418\n",
      "Train Epoch: 146 [0/1000 (0%)]\tLoss: 69.045151\n",
      "====> Epoch: 146 Average loss: 61.9273\n",
      "Train Epoch: 147 [0/1000 (0%)]\tLoss: 69.729340\n",
      "====> Epoch: 147 Average loss: 61.8675\n",
      "Train Epoch: 148 [0/1000 (0%)]\tLoss: 67.510040\n",
      "====> Epoch: 148 Average loss: 61.6466\n",
      "Train Epoch: 149 [0/1000 (0%)]\tLoss: 66.767845\n",
      "====> Epoch: 149 Average loss: 61.3510\n"
     ]
    }
   ],
   "source": [
    "for epoch in range(0, n_epochs):\n",
    "  train_ae(ae_model,mnist_train_loader,epoch)"
   ]
  },
  {
   "cell_type": "code",
   "execution_count": 9,
   "metadata": {
    "id": "T8jXjdRyzMy2"
   },
   "outputs": [],
   "source": [
    "def display_images(imgs):\n",
    "  \n",
    "  r = 1\n",
    "  c = imgs.shape[0]\n",
    "  fig, axs = plt.subplots(r, c)\n",
    "  for j in range(c):\n",
    "    #black and white images\n",
    "    axs[j].imshow(pytorch_to_numpy(imgs[j, 0,:,:]), cmap='gray')\n",
    "    axs[j].axis('off')\n",
    "  plt.show()\n",
    "\n",
    "def display_ae_images(ae_model, test_imgs):\n",
    "  n_images = 5\n",
    "  idx = np.random.randint(0, test_imgs.shape[0], n_images)\n",
    "  test_imgs = test_imgs[idx,:,:,:]\n",
    "  print(test_imgs.shape)\n",
    "\n",
    "  #get output images\n",
    "  output_imgs = pytorch_to_numpy(ae_model.forward( test_imgs ))\n",
    "  print(output_imgs.shape)\n",
    "  \n",
    "  r = 2\n",
    "  c = n_images\n",
    "  fig, axs = plt.subplots(r, c)\n",
    "  for j in range(c):\n",
    "    #black and white images\n",
    "    axs[0,j].imshow(test_imgs[j, 0,:,:], cmap='gray')\n",
    "    axs[0,j].axis('off')\n",
    "    axs[1,j].imshow(output_imgs[j, 0,:,:], cmap='gray')\n",
    "    axs[1,j].axis('off')\n",
    "  plt.show()"
   ]
  },
  {
   "cell_type": "code",
   "execution_count": 10,
   "metadata": {
    "id": "9pbXch29d68D"
   },
   "outputs": [
    {
     "name": "stdout",
     "output_type": "stream",
     "text": [
      "torch.Size([5, 1, 28, 28])\n",
      "(5, 1, 28, 28)\n"
     ]
    },
    {
     "data": {
      "image/png": "[encoded data removed]",
      "text/plain": [
       "<Figure size 640x480 with 10 Axes>"
      ]
     },
     "metadata": {},
     "output_type": "display_data"
    }
   ],
   "source": [
    "test_imgs = next(iter(mnist_train_loader))[0]\n",
    "display_ae_images(ae_model, test_imgs)"
   ]
  },
  {
   "cell_type": "markdown",
   "metadata": {
    "id": "assPaJqB5sa-"
   },
   "source": [
    "__Question__ Are you satisfied with the results, do they look good ?"
   ]
  },
  {
   "cell_type": "markdown",
   "metadata": {
    "id": "Q7uoWa4O5x8R"
   },
   "source": [
    "__Answer__\n",
    "\n",
    "The results look good. The output images ressemble a lot their original. This means our naive AE is quite efficient when it comes to compression/decompression of images (28x28 are mapped a 10D subspace) !"
   ]
  },
  {
   "cell_type": "markdown",
   "metadata": {
    "id": "zO9ATQEiyr3b"
   },
   "source": [
    "## 2/ Two simple generative models\n",
    "\n",
    "In this section, we consider two naïve approaches to creating generative models. The general idea is the following:\n",
    "\n",
    "- train an autoencoder\n",
    "- estimate different statistics (average, variance) of the data in the latent space\n",
    "- using these statistics, define a model based on a Gaussian distribution\n",
    "- generate data with this distribution\n",
    "\n",
    "We will consider these two situations :\n",
    "\n",
    "- a multivariate Gaussian distribution with __diagonal covariance matrix__ (each latent component is an independent random variable). This requires the average and variance in each latent component\n",
    "- a multivariate Gaussian distribution with __non-diagonal covariance matrix__. This requires the average and covariance matrix of the latent components\n",
    "\n",
    "Obviously, since this is done _a posteriori_ after training the autoencoder, there is nothing which guarantees that the latent codes do indeed follow a Gaussian distribution. Our goal will be to verify that Variational Autoencoders indeed produce better results than such naïve approaches."
   ]
  },
  {
   "cell_type": "markdown",
   "metadata": {
    "id": "x2M1-BRmf56d"
   },
   "source": [
    "## 2.0 Defining and generating random Gaussian latent codes\n",
    "\n",
    "Let $z$ be a latent code and $d$ the dimension of the latent space (called ``z_dim`` in the code). We suppose that the $z$'s follow a multivariate Gaussian distribution, written as:\n",
    "\n",
    "\\begin{equation}\n",
    "z \\sim \\mathcal{N}\\left(\n",
    "\\mu,\n",
    "\\bf{C}\n",
    "\\right),\n",
    "\\end{equation}\n",
    "where $\\mu$ and $\\bf{C}$ are the average vector and covariance matrix of the Gaussian distribution. To define such a generative model, we must therefore determine $\\mu$ and $\\bf{C}$. Once this is done, we can generate a random Gaussian latent code in the following manner:\n",
    "\n",
    "\\begin{equation}\n",
    "z = \\mu + {\\bf{L}} \\varepsilon,\n",
    "\\end{equation}\n",
    "where $\\varepsilon$ is a random vector drawn from a multivariate normal distribution ($\\mu=0$ and ${\\bf{C}} = \\text{Id}$), and $\\bf{L}$ is the Cholesky decomposition of the positive semi-definite covariance matrix. In other words:\n",
    "\n",
    "\\begin{equation}\n",
    "{\\bf{C}} = {\\bf{L}}{\\bf{L}^T}.\n",
    "\\end{equation}\n",
    "\n",
    "This gives a simple method of producing a multivariate Gaussian random variable."
   ]
  },
  {
   "cell_type": "markdown",
   "metadata": {
    "id": "NWpucm972i7j"
   },
   "source": [
    "## 2.1/ A Gaussian model with diagonal covariance\n",
    "\n",
    "The first naïve model is  defined in this first case as:\n",
    "\n",
    "- $\\bf{\\mu}=\\left[\\mu_0, \\mu_1, \\cdots, \\mu_{d-1}\\right]^T$\n",
    "- $\n",
    "  \\bf{C} = \\begin{pmatrix}\n",
    "\\sigma_0^2 & 0 & \\cdots & 0 \\\\\n",
    "0 & \\sigma_1^2 & \\cdots & 0 \\\\\n",
    "\\vdots & \\ddots & \\ddots & \\vdots \\\\\n",
    "0 & 0 & \\cdots & \\sigma_{d-1}^2\n",
    "\\end{pmatrix}$\n",
    "\n",
    "In this situation, therefore, the matrix $\\bf{L}$ can be calculated quite simply, as:\n",
    "- $\n",
    "  \\bf{L} = \\begin{pmatrix}\n",
    "\\sigma_0 & 0 & \\cdots & 0 \\\\\n",
    "0 & \\sigma_1 & \\cdots & 0 \\\\\n",
    "\\vdots & \\ddots & \\ddots & \\vdots \\\\\n",
    "0 & 0 & \\cdots & \\sigma_{d-1}\n",
    "\\end{pmatrix}$\n",
    "\n",
    "In the next cell, calculate the empirical average and variances over a certain number of batches:"
   ]
  },
  {
   "cell_type": "code",
   "execution_count": 11,
   "metadata": {
    "id": "sUXHCtvW2iQ0"
   },
   "outputs": [
    {
     "name": "stdout",
     "output_type": "stream",
     "text": [
      "Average of latent codes: tensor([ 1.1936, -1.0267, -5.9781,  5.5649, -9.9138, 11.3393, -8.0324, -4.0901,\n",
      "         5.3586,  7.6529], grad_fn=<MeanBackward1>)\n",
      "Standard deviation of latent codes: tensor([6.5070, 4.7806, 6.9811, 7.3408, 6.7857, 6.1828, 8.5292, 6.9462, 6.2268,\n",
      "        6.8296], grad_fn=<MeanBackward1>)\n"
     ]
    }
   ],
   "source": [
    "n_batches = np.floor( len(mnist_train_loader.dataset.indices)/batch_size ).astype(int)\n",
    "\n",
    "z_average = torch.zeros(n_batches,ae_model.z_dim)\n",
    "z_sigma = torch.zeros(n_batches,ae_model.z_dim)\n",
    "\n",
    "for batch_idx, (data, _) in enumerate(mnist_train_loader):\n",
    "  z = ae_model.encoder(data)\n",
    "  z_average[batch_idx,:] = torch.mean(z, axis=0) # FILL IN CODE HERE\n",
    "  z_sigma[batch_idx,:] = torch.std(z, axis=0) # FILL IN CODE HERE\n",
    "\n",
    "z_average = torch.mean(z_average, axis=0) # FILL IN CODE HERE\n",
    "z_sigma = torch.mean(z_sigma, axis=0) # FILL IN CODE HERE\n",
    "\n",
    "print(\"Average of latent codes:\",z_average)\n",
    "print(\"Standard deviation of latent codes:\",z_sigma)"
   ]
  },
  {
   "cell_type": "markdown",
   "metadata": {
    "id": "Lrpc62ML9K4l"
   },
   "source": [
    "Now, in the next cell generate data with this simple generative model using the approach described above. Display these images with the ``display_images`` function. \n",
    "\n",
    "__NB__ You do not actually have to define the matrix $\\bf{L}$ in this case, an element-wise multiplication of two (properly chosen) vectors will suffice. To generate multivariate normal random variables you can use the following Pytorch function:\n",
    "\n",
    "- ```torch.randn```\n"
   ]
  },
  {
   "cell_type": "code",
   "execution_count": 12,
   "metadata": {
    "id": "1_Tekii-9QEo"
   },
   "outputs": [
    {
     "data": {
      "image/png": "[encoded data removed]",
      "text/plain": [
       "<Figure size 640x480 with 5 Axes>"
      ]
     },
     "metadata": {},
     "output_type": "display_data"
    }
   ],
   "source": [
    "def generate_images_diagonal_gaussian(ae_model,z_average,z_sigma,n_images = 5):\n",
    "\n",
    "  epsilon = torch.randn(n_images, z_dim) # FILL IN CODE HERE\n",
    "  z_generated = z_average + z_sigma*epsilon# FILL IN CODE HERE\n",
    "  imgs_generated = ae_model.decoder(z_generated) # FILL IN CODE HERE\n",
    "  return(imgs_generated)\n",
    "\n",
    "imgs_generated = generate_images_diagonal_gaussian(ae_model,z_average,z_sigma,n_images=5)\n",
    "display_images(imgs_generated)"
   ]
  },
  {
   "cell_type": "markdown",
   "metadata": {
    "id": "xiNaEgLIloeA"
   },
   "source": [
    "As you should be able to see, these results are not that good. Let's try a slightly more sophisticated model."
   ]
  },
  {
   "cell_type": "markdown",
   "metadata": {
    "id": "WjVPfkRKYMSh"
   },
   "source": [
    "## 2.1 Non-diagonal Gaussian model\n",
    "\n",
    "The second model uses a non-diagonal covariance matrix $\\bf{C}$ in the multivariate Gaussian distribution. In the next cell, calculate the average and covariance matrix over several batches of latent codes.\n",
    "\n",
    "__NB__ You can use the ```torch.cov``` function. Make sure to put the data in the right format for this (see documentation : https://pytorch.org/docs/stable/generated/torch.cov.html)."
   ]
  },
  {
   "cell_type": "code",
   "execution_count": 13,
   "metadata": {
    "id": "ArXgre39CD2H"
   },
   "outputs": [
    {
     "name": "stdout",
     "output_type": "stream",
     "text": [
      "torch.Size([10, 10])\n",
      "Average of latent codes: tensor([  1.1842,  -1.0193,  -5.9929,   5.4143, -10.0397,  11.5413,  -7.9672,\n",
      "         -3.9464,   5.1790,   7.7846], grad_fn=<MeanBackward1>)\n",
      "Covariance matrix of latent codes: tensor([[ 42.5731,   0.4128,  25.3720,  -8.4834, -20.6910, -19.0257,   9.3925,\n",
      "           7.9381,  -9.3430,   8.3843],\n",
      "        [  0.4128,  22.5059,  11.6078,  -1.5518,  -1.9532,  10.7036,  10.1751,\n",
      "           3.8372,  -3.4516,  -1.1514],\n",
      "        [ 25.3720,  11.6078,  49.1749,   3.5100,  -7.7278,  -4.6676,  -0.5042,\n",
      "           7.9601,  -8.2701,   3.1777],\n",
      "        [ -8.4834,  -1.5518,   3.5100,  55.0772,   5.5121,  -1.9466,  -7.2612,\n",
      "         -21.7306,  13.0325,   6.3633],\n",
      "        [-20.6910,  -1.9532,  -7.7278,   5.5121,  44.3657,  -3.7458,   1.6393,\n",
      "         -11.2083,   5.2247,  -7.3939],\n",
      "        [-19.0257,  10.7036,  -4.6676,  -1.9466,  -3.7458,  37.2034, -14.8741,\n",
      "          -3.2854,  -6.0086,   3.9081],\n",
      "        [  9.3925,  10.1751,  -0.5042,  -7.2612,   1.6393, -14.8741,  73.1201,\n",
      "          24.5016, -16.8466,  27.5566],\n",
      "        [  7.9381,   3.8372,   7.9601, -21.7306, -11.2083,  -3.2854,  24.5016,\n",
      "          49.1919,  -8.8675,   0.4308],\n",
      "        [ -9.3430,  -3.4516,  -8.2701,  13.0325,   5.2247,  -6.0086, -16.8466,\n",
      "          -8.8675,  39.0090, -12.9966],\n",
      "        [  8.3843,  -1.1514,   3.1777,   6.3633,  -7.3939,   3.9081,  27.5566,\n",
      "           0.4308, -12.9966,  45.3751]], grad_fn=<MeanBackward1>)\n"
     ]
    }
   ],
   "source": [
    "n_batches = np.floor( len(mnist_train_loader.dataset.indices)/batch_size ).astype(int)\n",
    "\n",
    "z_average = torch.zeros(n_batches,ae_model.z_dim)\n",
    "z_covariance = torch.zeros(n_batches,ae_model.z_dim,ae_model.z_dim)\n",
    "\n",
    "for batch_idx, (data, _) in enumerate(mnist_train_loader):\n",
    "  z = ae_model.encoder(data)\n",
    "  z_average[batch_idx,:] = torch.mean(z, axis=0) # FILL IN CODE HERE\n",
    "  z_covariance[batch_idx,:,:] = torch.cov(z.T) # FILL IN CODE HERE\n",
    "\n",
    "z_average = torch.mean(z_average, axis=0) # FILL IN CODE HERE\n",
    "z_covariance = torch.mean(z_covariance, axis=0) # FILL IN CODE HERE\n",
    "\n",
    "print(z_covariance.shape)\n",
    "\n",
    "print(\"Average of latent codes:\",z_average)\n",
    "print(\"Covariance matrix of latent codes:\",z_covariance)"
   ]
  },
  {
   "cell_type": "markdown",
   "metadata": {
    "id": "JhXU8cnTZ0E8"
   },
   "source": [
    "Now, generate some samples with this distribution. In this case, you will actually have to calculate the Cholesky decomposition and find $\\bf{L}$. For this, you can use \n",
    "\n",
    "- ```torch.linalg.cholesky```\n",
    "\n",
    "In this model, you will need to carry out matrix multiplication over a batch of latent codes, which is a bit more complicated than the previous naïve model (which used element-wise vector multiplication). So you have two options:\n",
    "\n",
    "- copy the matrix $\\bf{L}$ several times and carry out batch matrix multiplication\n",
    "- simply loop and carry out normal matrix multiplication to produce each image (this has the disadvantage of not taking advantage of any parallelisation, but it should not matter too much).\n",
    "\n",
    "In the first case, you can use the following functions:\n",
    "\n",
    "- ```torch.bmm```\n",
    "- ```torch.tile```\n",
    "\n",
    "Fill in the function to generate images using this model now:"
   ]
  },
  {
   "cell_type": "code",
   "execution_count": 14,
   "metadata": {
    "id": "zXGlJTZ7Z4ed"
   },
   "outputs": [
    {
     "data": {
      "image/png": "[encoded data removed]",
      "text/plain": [
       "<Figure size 640x480 with 5 Axes>"
      ]
     },
     "metadata": {},
     "output_type": "display_data"
    }
   ],
   "source": [
    "def generate_images_non_diagonal_gaussian(ae_model,z_average,z_covariance,n_images = 5):\n",
    "\n",
    "  #calcualte Cholesky decomposition of covariance matrix : C = L L^T\n",
    "  # Make sure that the first dimension is the batch dimension (with batch size n_images)\n",
    "  # You can use the torch.unsqueeze function for this\n",
    "  L = torch.tile(torch.unsqueeze(torch.linalg.cholesky(z_covariance), 0), (n_images, 1, 1)) # FILL IN CODE HERE\n",
    "\n",
    "  epsilon = torch.randn(n_images, z_dim, 1) # FILL IN CODE HERE\n",
    "  z_generated = z_average + torch.bmm(L, epsilon).squeeze() # FILL IN CODE HERE\n",
    "  imgs_generated = ae_model.decoder(z_generated) # FILL IN CODE HERE\n",
    "  return(imgs_generated)\n",
    "\n",
    "\n",
    "imgs_generated = generate_images_non_diagonal_gaussian(ae_model,z_average,z_covariance,n_images = 5)\n",
    "display_images(imgs_generated)"
   ]
  },
  {
   "cell_type": "markdown",
   "metadata": {
    "id": "qLtsdri6zKEm"
   },
   "source": [
    "You should see some improvement, but we can do better than this. Thus, we turn to the variational autoencoder."
   ]
  },
  {
   "cell_type": "markdown",
   "metadata": {
    "id": "8UqeNhuSdnDt"
   },
   "source": [
    "# 3/ Variational autoencoder\n",
    "\n",
    "Now, we are going to create an variational autoencoder to carry out __image generation__. Let's first recall the idea of a variational autoencoder\n",
    "\n",
    "## Main idea\n",
    "\n",
    "The main idea is to create an autoencoder whose latent codes follow a certain distribution (a Gaussian distribution in practice). This is done with two tools : \n",
    "\n",
    "- A specific architecture, where the encoder produces the average and variance of the latent codes\n",
    "- A specially designed loss function\n",
    "\n",
    "Once the VAE is trained, it is possible to sample in the latent space by producing random normal variables and simply decoding.\n",
    "\n",
    "## Architecture\n",
    "\n",
    "The architecture of the VAE model is as follows:\n",
    "\n",
    "The encoder consists of:\n",
    "\n",
    "Encoder :\n",
    "- Flatten input\n",
    "- Dense layer $+$ ReLU\n",
    "- Dense layer $+$ ReLU\n",
    "- Dense layer (no non-linarity) to produce the average, Dense layer (no non-linarity) to produce the variance (these last two layers are in parallel)\n",
    "\n",
    "Decoder :\n",
    "- Dense layer $+$ ReLU\n",
    "- Dense layer $+$ ReLU\n",
    "- Dense layer $+$ Sigmoid Activation\n",
    "- Reshape, to size $28\\times 28\\times 1$\n",
    "\n",
    "\n",
    "## Variational Autoencoder loss\n",
    "\n",
    "Recall that for the VAE, the loss function is in fact a function to __maximise__. In fact, for implementation, you will see that it is easier to __minimise__ $-\\mathcal{L}$.\n",
    "\n",
    "In the case of an image which is represented by a set of __Bernoulli__ variables (which is relevant for mnist), the original loss function (to maximise) is written :\n",
    "\n",
    "\n",
    "\\begin{align}\n",
    "\\mathcal{L} &= \\log\\left(p_\\theta(x|z)\\right) - KL\\left( q_\\phi(z|x) \\; || \\; p_\\theta(z)\\right) \\\\\n",
    "    &= \\left(\\sum_{i} x_i \\log y_i + (1-x_i) \\log (1-y_i)\\right) - \\left(\\frac{1}{2} \\sum_j \\left( \\sigma_j^2 + \\mu_j^2 - \\log \\sigma_j^2 -1 \\right)\\right)\n",
    "\\end{align}\n",
    "\n",
    "\n",
    "where $i$ is summed over the image pixels, and $j$ is summed over the elements of the latent space. $\\sigma_j^2$ is the $j$th element of the latent space variance, and $\\mu_j$ is the $j$th element of the latent space mean.\n",
    "\n",
    "The left part of the loss (reconstruction error) can be implemented simply as the binary cross-entropy between the input x and the output y. Since we are __maximising__ $-$[binary cross-entropy] (look at the formula), this is equivalent to minimising the binary cross-entropy.\n",
    "\n",
    "For the right part of the equation (KL divergence), you need to implement it manually. \n",
    "\n",
    "The final loss is the average, over the batch size, of the sum of the reconstruction error (left part) and the KL divergence (right part). Be careful, in the formula, the sums over $i$ and $j$ are over the number of pixels and the number of latent elements, respectively. To achieve a sum rather than an average, you can use ```torch.nn.BCELoss(reduction='sum')()```, and the ```torch.sum()``` functions.\n",
    "\n",
    "As in the case of the normal autoencoder, you will need to flatten and then reshape the tensors at the beginning/end of the network."
   ]
  },
  {
   "cell_type": "code",
   "execution_count": 15,
   "metadata": {
    "id": "6siMHQLheM4T"
   },
   "outputs": [],
   "source": [
    "class VAE(torch.nn.Module ):\n",
    "  def __init__(self, x_dim, h_dim1, h_dim2, z_dim,n_rows,n_cols,n_channels):\n",
    "    super(VAE, self).__init__()\n",
    "\n",
    "    self.n_rows = n_rows\n",
    "    self.n_cols = n_cols\n",
    "    self.n_channels = n_channels\n",
    "    self.n_pixels = (self.n_rows)*(self.n_cols)\n",
    "    self.z_dim = z_dim\n",
    "\n",
    "    # encoder part\n",
    "    self.fc1 = nn.Linear(x_dim, h_dim1) # FILL IN CODE HERE\n",
    "    self.fc2 = nn.Linear(h_dim1, h_dim2) # FILL IN CODE HERE\n",
    "    self.fc31 = nn.Linear(h_dim2, z_dim) # FILL IN CODE HERE\n",
    "    self.fc32 = nn.Linear(h_dim2, z_dim) # FILL IN CODE HERE\n",
    "    # decoder part\n",
    "    self.fc4 = nn.Linear(z_dim, h_dim2) # FILL IN CODE HERE\n",
    "    self.fc5 = nn.Linear(h_dim2, h_dim1) # FILL IN CODE HERE\n",
    "    self.fc6 = nn.Linear(h_dim1, x_dim) # FILL IN CODE HERE\n",
    "\n",
    "  def encoder(self, x):\n",
    "    h = torch.relu(self.fc1(x.view(-1, self.n_pixels * self.n_channels))) # FILL IN CODE HERE\n",
    "    h = torch.relu(self.fc2(h)) # FILL IN CODE HERE\n",
    "    return (self.fc31(h), self.fc32(h)) # FILL IN CODE HERE\n",
    "\n",
    "  def decoder(self, z):\n",
    "    h = torch.relu(self.fc4(z)) # FILL IN CODE HERE\n",
    "    h = torch.relu(self.fc5(h)) # FILL IN CODE HERE\n",
    "    return torch.sigmoid(self.fc6(h)).view(-1, self.n_channels, self.n_rows, self.n_cols) # FILL IN CODE HERE\n",
    "\n",
    "  def sampling(self, mu, log_var):\n",
    "    # this function samples a Gaussian distribution, with average (mu) and standard deviation specified (using log_var)\n",
    "    std = torch.exp(0.5 * log_var) # FILL IN CODE HERE\n",
    "    eps = torch.randn_like(std) # FILL IN CODE HERE\n",
    "    return eps.mul(std).add_(mu) # return z sample\n",
    "\n",
    "  def forward(self, x):\n",
    "    z_mu, z_log_var = self.encoder(x)\n",
    "    z = self.sampling(z_mu, z_log_var)\n",
    "    return self.decoder(z),z_mu, z_log_var\n",
    "\n",
    "  def loss_function(self,x, y, mu, log_var):\n",
    "    reconstruction_error = nn.BCELoss(reduction='sum')(y, x) # FILL IN CODE HERE\n",
    "   \n",
    "    KLD = -0.5 * torch.sum(1 + log_var - mu.pow(2) - log_var.exp()) # FILL IN CODE HERE\n",
    "\n",
    "\n",
    "    return reconstruction_error + KLD # FILL IN CODE HERE"
   ]
  },
  {
   "cell_type": "markdown",
   "metadata": {
    "id": "hk_9fDIphlsi"
   },
   "source": [
    "Now, create the model (similarly as above)"
   ]
  },
  {
   "cell_type": "code",
   "execution_count": 16,
   "metadata": {
    "id": "pVlpC2R3htyU"
   },
   "outputs": [],
   "source": [
    "# create model\n",
    "vae_dim_1 = ae_dim_1\n",
    "vae_dim_2 = ae_dim_2\n",
    "vae_model = VAE(x_dim=n_pixels, h_dim1= vae_dim_1, h_dim2=vae_dim_2, z_dim=z_dim,n_rows=n_rows,n_cols=n_cols,n_channels=n_channels)\n",
    "vae_optimizer = optim.Adam(vae_model.parameters())"
   ]
  },
  {
   "cell_type": "markdown",
   "metadata": {
    "id": "NYKLF_oMh5HO"
   },
   "source": [
    "Finally, train the model. First modify the training function to the case of the vae."
   ]
  },
  {
   "cell_type": "code",
   "execution_count": 17,
   "metadata": {
    "id": "z6DjKTWmmssb"
   },
   "outputs": [],
   "source": [
    "def train_vae(vae_model,data_train_loader,epoch):\n",
    "  train_loss = 0\n",
    "  for batch_idx, (data, _) in enumerate(data_train_loader):\n",
    "    vae_optimizer.zero_grad()\n",
    "\n",
    "    y, z_mu, z_log_var = vae_model(data) # FILL IN CODE HERE\n",
    "    loss_vae = vae_model.loss_function(data, y, z_mu, z_log_var) # FILL IN CODE HERE\n",
    "    loss_vae.backward()\n",
    "    train_loss += loss_vae.item()\n",
    "    vae_optimizer.step() \n",
    "\t\t\n",
    "    if batch_idx % 100 == 0:\n",
    "      print('Train Epoch: {} [{}/{} ({:.0f}%)]\\tLoss: {:.6f}'.format(\n",
    "      epoch, batch_idx * len(data), len(data_train_loader.dataset),\n",
    "      100. * batch_idx / len(data_train_loader), loss_vae.item() / len(data)))\n",
    "  print('====> Epoch: {} Average loss: {:.4f}'.format(epoch, train_loss / len(data_train_loader.dataset)))\n"
   ]
  },
  {
   "cell_type": "code",
   "execution_count": 18,
   "metadata": {
    "id": "L9JUUs6Kh8HB"
   },
   "outputs": [
    {
     "name": "stdout",
     "output_type": "stream",
     "text": [
      "Train Epoch: 0 [0/1000 (0%)]\tLoss: 545.890442\n",
      "====> Epoch: 0 Average loss: 414.5989\n",
      "Train Epoch: 1 [0/1000 (0%)]\tLoss: 294.172180\n",
      "====> Epoch: 1 Average loss: 234.2367\n",
      "Train Epoch: 2 [0/1000 (0%)]\tLoss: 222.401978\n",
      "====> Epoch: 2 Average loss: 195.8062\n",
      "Train Epoch: 3 [0/1000 (0%)]\tLoss: 217.997147\n",
      "====> Epoch: 3 Average loss: 189.4541\n",
      "Train Epoch: 4 [0/1000 (0%)]\tLoss: 213.336182\n",
      "====> Epoch: 4 Average loss: 187.9468\n",
      "Train Epoch: 5 [0/1000 (0%)]\tLoss: 211.781250\n",
      "====> Epoch: 5 Average loss: 185.9580\n",
      "Train Epoch: 6 [0/1000 (0%)]\tLoss: 203.811264\n",
      "====> Epoch: 6 Average loss: 183.8448\n",
      "Train Epoch: 7 [0/1000 (0%)]\tLoss: 205.328629\n",
      "====> Epoch: 7 Average loss: 182.3294\n",
      "Train Epoch: 8 [0/1000 (0%)]\tLoss: 208.380478\n",
      "====> Epoch: 8 Average loss: 181.1994\n",
      "Train Epoch: 9 [0/1000 (0%)]\tLoss: 199.586197\n",
      "====> Epoch: 9 Average loss: 180.5056\n",
      "Train Epoch: 10 [0/1000 (0%)]\tLoss: 200.355240\n",
      "====> Epoch: 10 Average loss: 177.2374\n",
      "Train Epoch: 11 [0/1000 (0%)]\tLoss: 195.577011\n",
      "====> Epoch: 11 Average loss: 177.4290\n",
      "Train Epoch: 12 [0/1000 (0%)]\tLoss: 194.347076\n",
      "====> Epoch: 12 Average loss: 174.8687\n",
      "Train Epoch: 13 [0/1000 (0%)]\tLoss: 197.840698\n",
      "====> Epoch: 13 Average loss: 174.1394\n",
      "Train Epoch: 14 [0/1000 (0%)]\tLoss: 190.360107\n",
      "====> Epoch: 14 Average loss: 172.1434\n",
      "Train Epoch: 15 [0/1000 (0%)]\tLoss: 197.518661\n",
      "====> Epoch: 15 Average loss: 171.0975\n",
      "Train Epoch: 16 [0/1000 (0%)]\tLoss: 189.200394\n",
      "====> Epoch: 16 Average loss: 168.4905\n",
      "Train Epoch: 17 [0/1000 (0%)]\tLoss: 193.029114\n",
      "====> Epoch: 17 Average loss: 167.0265\n",
      "Train Epoch: 18 [0/1000 (0%)]\tLoss: 190.956573\n",
      "====> Epoch: 18 Average loss: 165.4830\n",
      "Train Epoch: 19 [0/1000 (0%)]\tLoss: 174.630981\n",
      "====> Epoch: 19 Average loss: 163.4839\n",
      "Train Epoch: 20 [0/1000 (0%)]\tLoss: 185.661453\n",
      "====> Epoch: 20 Average loss: 161.6075\n",
      "Train Epoch: 21 [0/1000 (0%)]\tLoss: 179.215622\n",
      "====> Epoch: 21 Average loss: 158.3981\n",
      "Train Epoch: 22 [0/1000 (0%)]\tLoss: 172.446198\n",
      "====> Epoch: 22 Average loss: 154.9995\n",
      "Train Epoch: 23 [0/1000 (0%)]\tLoss: 170.926285\n",
      "====> Epoch: 23 Average loss: 150.9405\n",
      "Train Epoch: 24 [0/1000 (0%)]\tLoss: 166.824799\n",
      "====> Epoch: 24 Average loss: 149.2994\n",
      "Train Epoch: 25 [0/1000 (0%)]\tLoss: 159.269043\n",
      "====> Epoch: 25 Average loss: 147.9946\n",
      "Train Epoch: 26 [0/1000 (0%)]\tLoss: 168.876663\n",
      "====> Epoch: 26 Average loss: 146.2869\n",
      "Train Epoch: 27 [0/1000 (0%)]\tLoss: 159.525879\n",
      "====> Epoch: 27 Average loss: 144.4511\n",
      "Train Epoch: 28 [0/1000 (0%)]\tLoss: 156.602158\n",
      "====> Epoch: 28 Average loss: 143.4578\n",
      "Train Epoch: 29 [0/1000 (0%)]\tLoss: 160.694672\n",
      "====> Epoch: 29 Average loss: 143.2316\n",
      "Train Epoch: 30 [0/1000 (0%)]\tLoss: 159.496674\n",
      "====> Epoch: 30 Average loss: 142.0523\n",
      "Train Epoch: 31 [0/1000 (0%)]\tLoss: 160.931732\n",
      "====> Epoch: 31 Average loss: 140.0428\n",
      "Train Epoch: 32 [0/1000 (0%)]\tLoss: 156.736511\n",
      "====> Epoch: 32 Average loss: 140.2854\n",
      "Train Epoch: 33 [0/1000 (0%)]\tLoss: 153.622131\n",
      "====> Epoch: 33 Average loss: 138.1818\n",
      "Train Epoch: 34 [0/1000 (0%)]\tLoss: 159.253174\n",
      "====> Epoch: 34 Average loss: 137.4238\n",
      "Train Epoch: 35 [0/1000 (0%)]\tLoss: 159.041061\n",
      "====> Epoch: 35 Average loss: 136.0225\n",
      "Train Epoch: 36 [0/1000 (0%)]\tLoss: 148.720413\n",
      "====> Epoch: 36 Average loss: 133.4322\n",
      "Train Epoch: 37 [0/1000 (0%)]\tLoss: 156.143204\n",
      "====> Epoch: 37 Average loss: 132.0551\n",
      "Train Epoch: 38 [0/1000 (0%)]\tLoss: 141.082581\n",
      "====> Epoch: 38 Average loss: 130.9603\n",
      "Train Epoch: 39 [0/1000 (0%)]\tLoss: 142.076630\n",
      "====> Epoch: 39 Average loss: 129.7140\n",
      "Train Epoch: 40 [0/1000 (0%)]\tLoss: 138.708878\n",
      "====> Epoch: 40 Average loss: 128.8681\n",
      "Train Epoch: 41 [0/1000 (0%)]\tLoss: 140.991257\n",
      "====> Epoch: 41 Average loss: 127.7550\n",
      "Train Epoch: 42 [0/1000 (0%)]\tLoss: 146.079086\n",
      "====> Epoch: 42 Average loss: 126.7042\n",
      "Train Epoch: 43 [0/1000 (0%)]\tLoss: 139.424149\n",
      "====> Epoch: 43 Average loss: 125.8701\n",
      "Train Epoch: 44 [0/1000 (0%)]\tLoss: 142.373566\n",
      "====> Epoch: 44 Average loss: 125.2611\n",
      "Train Epoch: 45 [0/1000 (0%)]\tLoss: 144.710739\n",
      "====> Epoch: 45 Average loss: 124.9206\n",
      "Train Epoch: 46 [0/1000 (0%)]\tLoss: 139.536713\n",
      "====> Epoch: 46 Average loss: 124.3131\n",
      "Train Epoch: 47 [0/1000 (0%)]\tLoss: 136.581314\n",
      "====> Epoch: 47 Average loss: 122.5921\n",
      "Train Epoch: 48 [0/1000 (0%)]\tLoss: 138.420929\n",
      "====> Epoch: 48 Average loss: 122.8027\n",
      "Train Epoch: 49 [0/1000 (0%)]\tLoss: 138.087952\n",
      "====> Epoch: 49 Average loss: 120.8915\n",
      "Train Epoch: 50 [0/1000 (0%)]\tLoss: 128.866791\n",
      "====> Epoch: 50 Average loss: 119.7652\n",
      "Train Epoch: 51 [0/1000 (0%)]\tLoss: 144.713257\n",
      "====> Epoch: 51 Average loss: 119.9666\n",
      "Train Epoch: 52 [0/1000 (0%)]\tLoss: 133.194473\n",
      "====> Epoch: 52 Average loss: 119.0659\n",
      "Train Epoch: 53 [0/1000 (0%)]\tLoss: 131.520752\n",
      "====> Epoch: 53 Average loss: 118.2802\n",
      "Train Epoch: 54 [0/1000 (0%)]\tLoss: 134.354431\n",
      "====> Epoch: 54 Average loss: 118.3859\n",
      "Train Epoch: 55 [0/1000 (0%)]\tLoss: 131.654388\n",
      "====> Epoch: 55 Average loss: 117.3205\n",
      "Train Epoch: 56 [0/1000 (0%)]\tLoss: 130.679703\n",
      "====> Epoch: 56 Average loss: 117.0521\n",
      "Train Epoch: 57 [0/1000 (0%)]\tLoss: 127.702484\n",
      "====> Epoch: 57 Average loss: 116.7774\n",
      "Train Epoch: 58 [0/1000 (0%)]\tLoss: 127.076843\n",
      "====> Epoch: 58 Average loss: 115.6740\n",
      "Train Epoch: 59 [0/1000 (0%)]\tLoss: 130.525421\n",
      "====> Epoch: 59 Average loss: 115.3385\n",
      "Train Epoch: 60 [0/1000 (0%)]\tLoss: 122.029114\n",
      "====> Epoch: 60 Average loss: 114.3586\n",
      "Train Epoch: 61 [0/1000 (0%)]\tLoss: 125.456879\n",
      "====> Epoch: 61 Average loss: 114.3276\n",
      "Train Epoch: 62 [0/1000 (0%)]\tLoss: 127.944427\n",
      "====> Epoch: 62 Average loss: 113.7250\n",
      "Train Epoch: 63 [0/1000 (0%)]\tLoss: 124.392189\n",
      "====> Epoch: 63 Average loss: 112.6948\n",
      "Train Epoch: 64 [0/1000 (0%)]\tLoss: 122.722404\n",
      "====> Epoch: 64 Average loss: 112.6848\n",
      "Train Epoch: 65 [0/1000 (0%)]\tLoss: 129.340820\n",
      "====> Epoch: 65 Average loss: 112.5083\n",
      "Train Epoch: 66 [0/1000 (0%)]\tLoss: 123.210014\n",
      "====> Epoch: 66 Average loss: 111.7426\n",
      "Train Epoch: 67 [0/1000 (0%)]\tLoss: 127.963562\n",
      "====> Epoch: 67 Average loss: 111.5194\n",
      "Train Epoch: 68 [0/1000 (0%)]\tLoss: 124.814110\n",
      "====> Epoch: 68 Average loss: 110.2207\n",
      "Train Epoch: 69 [0/1000 (0%)]\tLoss: 124.157143\n",
      "====> Epoch: 69 Average loss: 109.8711\n",
      "Train Epoch: 70 [0/1000 (0%)]\tLoss: 119.210617\n",
      "====> Epoch: 70 Average loss: 109.7942\n",
      "Train Epoch: 71 [0/1000 (0%)]\tLoss: 119.682320\n",
      "====> Epoch: 71 Average loss: 109.4496\n",
      "Train Epoch: 72 [0/1000 (0%)]\tLoss: 121.580734\n",
      "====> Epoch: 72 Average loss: 108.3340\n",
      "Train Epoch: 73 [0/1000 (0%)]\tLoss: 121.330757\n",
      "====> Epoch: 73 Average loss: 109.3719\n",
      "Train Epoch: 74 [0/1000 (0%)]\tLoss: 120.728577\n",
      "====> Epoch: 74 Average loss: 107.8998\n",
      "Train Epoch: 75 [0/1000 (0%)]\tLoss: 119.818695\n",
      "====> Epoch: 75 Average loss: 107.7037\n",
      "Train Epoch: 76 [0/1000 (0%)]\tLoss: 121.201973\n",
      "====> Epoch: 76 Average loss: 107.8841\n",
      "Train Epoch: 77 [0/1000 (0%)]\tLoss: 118.325912\n",
      "====> Epoch: 77 Average loss: 107.6719\n",
      "Train Epoch: 78 [0/1000 (0%)]\tLoss: 118.823891\n",
      "====> Epoch: 78 Average loss: 107.0312\n",
      "Train Epoch: 79 [0/1000 (0%)]\tLoss: 112.856705\n",
      "====> Epoch: 79 Average loss: 106.3587\n",
      "Train Epoch: 80 [0/1000 (0%)]\tLoss: 120.911369\n",
      "====> Epoch: 80 Average loss: 106.5089\n",
      "Train Epoch: 81 [0/1000 (0%)]\tLoss: 119.544739\n",
      "====> Epoch: 81 Average loss: 106.7121\n",
      "Train Epoch: 82 [0/1000 (0%)]\tLoss: 116.837265\n",
      "====> Epoch: 82 Average loss: 105.3125\n",
      "Train Epoch: 83 [0/1000 (0%)]\tLoss: 115.926544\n",
      "====> Epoch: 83 Average loss: 105.7419\n",
      "Train Epoch: 84 [0/1000 (0%)]\tLoss: 116.377754\n",
      "====> Epoch: 84 Average loss: 105.1847\n",
      "Train Epoch: 85 [0/1000 (0%)]\tLoss: 119.965439\n",
      "====> Epoch: 85 Average loss: 105.7160\n",
      "Train Epoch: 86 [0/1000 (0%)]\tLoss: 123.515617\n",
      "====> Epoch: 86 Average loss: 105.2506\n",
      "Train Epoch: 87 [0/1000 (0%)]\tLoss: 117.134857\n",
      "====> Epoch: 87 Average loss: 104.7112\n",
      "Train Epoch: 88 [0/1000 (0%)]\tLoss: 117.073036\n",
      "====> Epoch: 88 Average loss: 104.2909\n",
      "Train Epoch: 89 [0/1000 (0%)]\tLoss: 114.190315\n",
      "====> Epoch: 89 Average loss: 104.1081\n",
      "Train Epoch: 90 [0/1000 (0%)]\tLoss: 113.938614\n",
      "====> Epoch: 90 Average loss: 104.2840\n",
      "Train Epoch: 91 [0/1000 (0%)]\tLoss: 115.581741\n",
      "====> Epoch: 91 Average loss: 104.1621\n",
      "Train Epoch: 92 [0/1000 (0%)]\tLoss: 113.029800\n",
      "====> Epoch: 92 Average loss: 103.4914\n",
      "Train Epoch: 93 [0/1000 (0%)]\tLoss: 114.380882\n",
      "====> Epoch: 93 Average loss: 102.5339\n",
      "Train Epoch: 94 [0/1000 (0%)]\tLoss: 116.951004\n",
      "====> Epoch: 94 Average loss: 102.6695\n",
      "Train Epoch: 95 [0/1000 (0%)]\tLoss: 113.599060\n"
     ]
    },
    {
     "name": "stdout",
     "output_type": "stream",
     "text": [
      "====> Epoch: 95 Average loss: 102.4580\n",
      "Train Epoch: 96 [0/1000 (0%)]\tLoss: 120.881241\n",
      "====> Epoch: 96 Average loss: 102.6011\n",
      "Train Epoch: 97 [0/1000 (0%)]\tLoss: 114.168747\n",
      "====> Epoch: 97 Average loss: 101.9600\n",
      "Train Epoch: 98 [0/1000 (0%)]\tLoss: 114.123985\n",
      "====> Epoch: 98 Average loss: 102.0286\n",
      "Train Epoch: 99 [0/1000 (0%)]\tLoss: 109.922874\n",
      "====> Epoch: 99 Average loss: 101.1643\n",
      "Train Epoch: 100 [0/1000 (0%)]\tLoss: 112.930305\n",
      "====> Epoch: 100 Average loss: 101.4523\n",
      "Train Epoch: 101 [0/1000 (0%)]\tLoss: 112.576248\n",
      "====> Epoch: 101 Average loss: 101.1526\n",
      "Train Epoch: 102 [0/1000 (0%)]\tLoss: 114.898277\n",
      "====> Epoch: 102 Average loss: 100.9491\n",
      "Train Epoch: 103 [0/1000 (0%)]\tLoss: 111.057602\n",
      "====> Epoch: 103 Average loss: 101.2645\n",
      "Train Epoch: 104 [0/1000 (0%)]\tLoss: 112.304916\n",
      "====> Epoch: 104 Average loss: 100.5942\n",
      "Train Epoch: 105 [0/1000 (0%)]\tLoss: 110.844780\n",
      "====> Epoch: 105 Average loss: 100.4495\n",
      "Train Epoch: 106 [0/1000 (0%)]\tLoss: 112.105972\n",
      "====> Epoch: 106 Average loss: 100.0105\n",
      "Train Epoch: 107 [0/1000 (0%)]\tLoss: 109.347031\n",
      "====> Epoch: 107 Average loss: 100.2584\n",
      "Train Epoch: 108 [0/1000 (0%)]\tLoss: 113.484802\n",
      "====> Epoch: 108 Average loss: 100.0043\n",
      "Train Epoch: 109 [0/1000 (0%)]\tLoss: 110.952408\n",
      "====> Epoch: 109 Average loss: 99.1789\n",
      "Train Epoch: 110 [0/1000 (0%)]\tLoss: 113.587700\n",
      "====> Epoch: 110 Average loss: 99.7590\n",
      "Train Epoch: 111 [0/1000 (0%)]\tLoss: 110.300415\n",
      "====> Epoch: 111 Average loss: 99.0784\n",
      "Train Epoch: 112 [0/1000 (0%)]\tLoss: 107.991814\n",
      "====> Epoch: 112 Average loss: 98.9430\n",
      "Train Epoch: 113 [0/1000 (0%)]\tLoss: 109.026733\n",
      "====> Epoch: 113 Average loss: 98.2040\n",
      "Train Epoch: 114 [0/1000 (0%)]\tLoss: 112.463928\n",
      "====> Epoch: 114 Average loss: 98.5137\n",
      "Train Epoch: 115 [0/1000 (0%)]\tLoss: 112.336876\n",
      "====> Epoch: 115 Average loss: 98.2783\n",
      "Train Epoch: 116 [0/1000 (0%)]\tLoss: 112.779091\n",
      "====> Epoch: 116 Average loss: 97.7904\n",
      "Train Epoch: 117 [0/1000 (0%)]\tLoss: 111.065598\n",
      "====> Epoch: 117 Average loss: 97.8415\n",
      "Train Epoch: 118 [0/1000 (0%)]\tLoss: 108.607620\n",
      "====> Epoch: 118 Average loss: 99.0009\n",
      "Train Epoch: 119 [0/1000 (0%)]\tLoss: 111.225838\n",
      "====> Epoch: 119 Average loss: 97.1743\n",
      "Train Epoch: 120 [0/1000 (0%)]\tLoss: 107.599045\n",
      "====> Epoch: 120 Average loss: 96.9997\n",
      "Train Epoch: 121 [0/1000 (0%)]\tLoss: 108.781845\n",
      "====> Epoch: 121 Average loss: 96.9193\n",
      "Train Epoch: 122 [0/1000 (0%)]\tLoss: 110.773956\n",
      "====> Epoch: 122 Average loss: 97.0107\n",
      "Train Epoch: 123 [0/1000 (0%)]\tLoss: 109.308800\n",
      "====> Epoch: 123 Average loss: 96.4571\n",
      "Train Epoch: 124 [0/1000 (0%)]\tLoss: 109.082115\n",
      "====> Epoch: 124 Average loss: 96.9989\n",
      "Train Epoch: 125 [0/1000 (0%)]\tLoss: 107.969215\n",
      "====> Epoch: 125 Average loss: 96.4216\n",
      "Train Epoch: 126 [0/1000 (0%)]\tLoss: 103.565262\n",
      "====> Epoch: 126 Average loss: 95.5647\n",
      "Train Epoch: 127 [0/1000 (0%)]\tLoss: 107.630623\n",
      "====> Epoch: 127 Average loss: 96.0520\n",
      "Train Epoch: 128 [0/1000 (0%)]\tLoss: 101.635735\n",
      "====> Epoch: 128 Average loss: 95.3661\n",
      "Train Epoch: 129 [0/1000 (0%)]\tLoss: 108.473991\n",
      "====> Epoch: 129 Average loss: 96.0754\n",
      "Train Epoch: 130 [0/1000 (0%)]\tLoss: 108.286377\n",
      "====> Epoch: 130 Average loss: 95.3662\n",
      "Train Epoch: 131 [0/1000 (0%)]\tLoss: 105.934998\n",
      "====> Epoch: 131 Average loss: 95.2172\n",
      "Train Epoch: 132 [0/1000 (0%)]\tLoss: 103.881500\n",
      "====> Epoch: 132 Average loss: 95.2661\n",
      "Train Epoch: 133 [0/1000 (0%)]\tLoss: 108.085144\n",
      "====> Epoch: 133 Average loss: 95.9691\n",
      "Train Epoch: 134 [0/1000 (0%)]\tLoss: 105.541267\n",
      "====> Epoch: 134 Average loss: 95.0545\n",
      "Train Epoch: 135 [0/1000 (0%)]\tLoss: 103.772400\n",
      "====> Epoch: 135 Average loss: 95.0753\n",
      "Train Epoch: 136 [0/1000 (0%)]\tLoss: 105.058876\n",
      "====> Epoch: 136 Average loss: 94.1793\n",
      "Train Epoch: 137 [0/1000 (0%)]\tLoss: 102.531937\n",
      "====> Epoch: 137 Average loss: 94.9966\n",
      "Train Epoch: 138 [0/1000 (0%)]\tLoss: 102.503799\n",
      "====> Epoch: 138 Average loss: 94.3621\n",
      "Train Epoch: 139 [0/1000 (0%)]\tLoss: 101.941116\n",
      "====> Epoch: 139 Average loss: 93.9221\n",
      "Train Epoch: 140 [0/1000 (0%)]\tLoss: 104.774139\n",
      "====> Epoch: 140 Average loss: 94.7494\n",
      "Train Epoch: 141 [0/1000 (0%)]\tLoss: 102.013474\n",
      "====> Epoch: 141 Average loss: 94.4954\n",
      "Train Epoch: 142 [0/1000 (0%)]\tLoss: 104.308617\n",
      "====> Epoch: 142 Average loss: 94.3020\n",
      "Train Epoch: 143 [0/1000 (0%)]\tLoss: 109.133247\n",
      "====> Epoch: 143 Average loss: 94.0310\n",
      "Train Epoch: 144 [0/1000 (0%)]\tLoss: 102.146515\n",
      "====> Epoch: 144 Average loss: 93.2377\n",
      "Train Epoch: 145 [0/1000 (0%)]\tLoss: 100.537376\n",
      "====> Epoch: 145 Average loss: 93.0994\n",
      "Train Epoch: 146 [0/1000 (0%)]\tLoss: 105.078171\n",
      "====> Epoch: 146 Average loss: 93.0454\n",
      "Train Epoch: 147 [0/1000 (0%)]\tLoss: 103.524757\n",
      "====> Epoch: 147 Average loss: 92.4860\n",
      "Train Epoch: 148 [0/1000 (0%)]\tLoss: 98.051910\n",
      "====> Epoch: 148 Average loss: 92.3624\n",
      "Train Epoch: 149 [0/1000 (0%)]\tLoss: 105.315643\n",
      "====> Epoch: 149 Average loss: 92.6494\n"
     ]
    }
   ],
   "source": [
    "# now train the model\n",
    "for epoch in range(0, n_epochs):\n",
    "  train_vae(vae_model,mnist_train_loader,epoch)"
   ]
  },
  {
   "cell_type": "markdown",
   "metadata": {
    "id": "uTfRje_AkKDr"
   },
   "source": [
    "Now, generate some images with the VAE model"
   ]
  },
  {
   "cell_type": "code",
   "execution_count": 19,
   "metadata": {
    "id": "41tXdNsFkKk5"
   },
   "outputs": [
    {
     "data": {
      "image/png": "[encoded data removed]",
      "text/plain": [
       "<Figure size 640x480 with 5 Axes>"
      ]
     },
     "metadata": {},
     "output_type": "display_data"
    }
   ],
   "source": [
    "def generate_images_vae(vae_model,n_images = 5):\n",
    "\n",
    "  epsilon = torch.randn(n_images, z_dim) # FILL IN CODE HERE\n",
    "  imgs_generated = vae_model.decoder(epsilon) # FILL IN CODE HERE\n",
    "  return(imgs_generated)\n",
    "\n",
    "imgs_generated = generate_images_vae(vae_model,n_images=5)\n",
    "display_images(imgs_generated)"
   ]
  },
  {
   "cell_type": "markdown",
   "metadata": {
    "id": "lGnvKoynzaFN"
   },
   "source": [
    "Do you think the results are better ? What difference can you see ? What advantage does the Variational Autoencoder have over the simple autoencoder model, even though the second autoencoder approach has a more complex probabilistic latent model (a full covariance matrix) ?"
   ]
  },
  {
   "cell_type": "markdown",
   "metadata": {
    "id": "uuYn3_PBzjkI"
   },
   "source": [
    "__Answer__\n",
    "\n",
    "I think the results of the VAE are comparable with the ones of the Gaussian non-diagonal model. The main difference I see between the two is that are no blurry structures in the outouts of the VAE, whereas the in the last two outputs of the non-diagonal model above, we can see splurges of \"blurry\"strucutres. This could be because one of the advantages of VAE is that it learns a smooth and structured latent space by regularizing the distribution of latent variables."
   ]
  },
  {
   "cell_type": "markdown",
   "metadata": {
    "id": "uXm-D9Ef9vYm"
   },
   "source": [
    "We will now compare the models quantitavely."
   ]
  },
  {
   "cell_type": "markdown",
   "metadata": {
    "id": "04MddkzuE324"
   },
   "source": [
    "# 3 Evaluating and comparing the models\n",
    "\n",
    "We will evaluate the models, in the following manner:\n",
    "\n",
    "- we train a simple convolutional neural network classifier on mnist, to a good accuracy\n",
    "- we generate images with each model\n",
    "- we find the average of the highest probability of the images according to the classifier, for each model. If this value is high, it means that on average the classifier considers that the images look like a \n",
    "\n",
    "We will use the following convoluional architecture for the classifier:\n",
    "\n",
    "- conv2d, filter size  3×3 , 32 filters, stride=(2,2), padding=\"SAME\"\n",
    "- ReLU\n",
    "- conv2d, filter size  3×3 , 32 filters, stride=(2,2), padding=\"SAME\"\n",
    "- ReLU\n",
    "- MaxPool2D, stride=(2,2)\n",
    "- Flatten\n",
    "- Dense layer\n",
    "\n",
    "Now, define the model. To make things easier, use the ```torch.nn.Sequential``` API (there is no need for a Class in this simple case)."
   ]
  },
  {
   "cell_type": "code",
   "execution_count": 20,
   "metadata": {
    "id": "P87a-DkXFOCv"
   },
   "outputs": [],
   "source": [
    "learning_rate = 0.01\n",
    "n_epochs = 20\n",
    "batch_size = 64\n",
    "nb_classes = int(mnist_trainset.targets.max()+1)\n",
    "\n",
    "# number of convolutional filters to use\n",
    "nb_filters = 32\n",
    "# convolution kernel size\n",
    "kernel_size = (3, 3)\n",
    "# size of pooling area for max pooling\n",
    "pool_size = (2, 2)\n",
    "\n",
    "# --- Size of the successive layers\n",
    "n_h_0 = 1 #greyscale input images\n",
    "n_h_1 = nb_filters\n",
    "n_h_2 = nb_filters\n",
    "\n",
    "mnist_classification_model = torch.nn.Sequential(\n",
    "    torch.nn.Conv2d(n_h_0, n_h_1, kernel_size, padding=0, stride=1),\n",
    "    torch.nn.ReLU(),\n",
    "    torch.nn.Conv2d(n_h_1, n_h_2, kernel_size, padding=0, stride=1),\n",
    "    torch.nn.ReLU(),\n",
    "    torch.nn.MaxPool2d(pool_size),\n",
    "    torch.nn.Flatten(),\n",
    "    torch.nn.Linear(12*12*nb_filters, nb_classes))\n",
    "    \n",
    "\n",
    "criterion = torch.nn.CrossEntropyLoss()\n",
    "optimizer = torch.optim.Adam(mnist_classification_model.parameters(), lr=learning_rate)"
   ]
  },
  {
   "cell_type": "markdown",
   "metadata": {
    "id": "_sUZONxw2bnt"
   },
   "source": [
    "Create a function to calculate accuracy, instead of loss"
   ]
  },
  {
   "cell_type": "code",
   "execution_count": 21,
   "metadata": {
    "id": "aOww0ydr2fT0"
   },
   "outputs": [],
   "source": [
    "def get_accuracy(x_pred,x_label):\n",
    "  acc = torch.sum(x_pred == x_label)/(x_pred.shape[0])\n",
    "  return acc"
   ]
  },
  {
   "cell_type": "markdown",
   "metadata": {
    "id": "qw0vkZIqFcse"
   },
   "source": [
    "Now, train the model. You should be able to achieve an accuracy close to 1.00 within 20 epochs"
   ]
  },
  {
   "cell_type": "code",
   "execution_count": 22,
   "metadata": {
    "id": "0FA8YoX2FcHP"
   },
   "outputs": [
    {
     "name": "stdout",
     "output_type": "stream",
     "text": [
      "Epoch:0 Train Loss:0.0090 Accuracy:0.6328\n",
      "Epoch:1 Train Loss:0.0055 Accuracy:0.7656\n",
      "Epoch:2 Train Loss:0.0030 Accuracy:0.8984\n",
      "Epoch:3 Train Loss:0.0014 Accuracy:0.9453\n",
      "Epoch:4 Train Loss:0.0024 Accuracy:0.9453\n",
      "Epoch:5 Train Loss:0.0012 Accuracy:0.9688\n",
      "Epoch:6 Train Loss:0.0008 Accuracy:0.9688\n",
      "Epoch:7 Train Loss:0.0003 Accuracy:0.9922\n",
      "Epoch:8 Train Loss:0.0001 Accuracy:1.0000\n",
      "Epoch:9 Train Loss:0.0001 Accuracy:1.0000\n",
      "Epoch:10 Train Loss:0.0000 Accuracy:1.0000\n",
      "Epoch:11 Train Loss:0.0000 Accuracy:1.0000\n",
      "Epoch:12 Train Loss:0.0000 Accuracy:1.0000\n",
      "Epoch:13 Train Loss:0.0000 Accuracy:1.0000\n",
      "Epoch:14 Train Loss:0.0000 Accuracy:1.0000\n",
      "Epoch:15 Train Loss:0.0000 Accuracy:1.0000\n",
      "Epoch:16 Train Loss:0.0000 Accuracy:1.0000\n",
      "Epoch:17 Train Loss:0.0000 Accuracy:1.0000\n",
      "Epoch:18 Train Loss:0.0000 Accuracy:1.0000\n",
      "Epoch:19 Train Loss:0.0000 Accuracy:1.0000\n"
     ]
    }
   ],
   "source": [
    "train_losses=[]\n",
    "valid_losses=[]\n",
    "\n",
    "for epoch in range(0,n_epochs):\n",
    "  train_loss=0.0\n",
    "\n",
    "  for batch_idx, (imgs, labels) in enumerate(mnist_train_loader):\n",
    "\n",
    "    # set the gradients back to 0\n",
    "    optimizer.zero_grad()\n",
    "    predict=mnist_classification_model(imgs)\n",
    "    # apply loss function\n",
    "    loss=criterion(predict,labels)\n",
    "    acc = get_accuracy(torch.argmax(predict,dim=1),labels)\n",
    "    # backpropagation\n",
    "    loss.backward()\n",
    "    optimizer.step()\n",
    "    train_loss=loss.item()\n",
    "  print('Epoch:{} Train Loss:{:.4f} Accuracy:{:.4f}'.format(epoch,train_loss/imgs.shape[0],acc))"
   ]
  },
  {
   "cell_type": "markdown",
   "metadata": {
    "id": "zFgN5LblFwTa"
   },
   "source": [
    "### Evaluate the average maximum prediction of the images generated by each generative model (higher is better)\n",
    "\n",
    "Now, we will evaluate the models. For each ones, produce a certain number of images, and put those images through the classification network. Then find the maximum class probability of each image, and average it over all the images. We will use this as a metric to evaluate each model.\n",
    "\n",
    "__CAREFUL__: the output of the network does __not__ include the Softmax layer, so you will have to carry it out, with:\n",
    "- ```torch.nn.Softmax()(...)```\n",
    "\n",
    "Define this metric now:"
   ]
  },
  {
   "cell_type": "code",
   "execution_count": 23,
   "metadata": {
    "id": "lCJ_0qqjOXHT"
   },
   "outputs": [],
   "source": [
    "def generative_model_score(imgs_in,classification_model):\n",
    "  gen_score =  torch.mean(torch.max(nn.Softmax(dim=1)(classification_model(imgs_in)), dim=1).values) # FILL IN CODE HERE\n",
    "  return(gen_score)"
   ]
  },
  {
   "cell_type": "markdown",
   "metadata": {
    "id": "yGq7YFg51UoP"
   },
   "source": [
    "Now, generate some images with each of the three models, and evaluate these models:"
   ]
  },
  {
   "cell_type": "code",
   "execution_count": 24,
   "metadata": {
    "id": "4-L4u2jhILFx"
   },
   "outputs": [
    {
     "name": "stdout",
     "output_type": "stream",
     "text": [
      "Diagonal gaussian generative model score :  0.8431656360626221\n",
      "Non diagonal gaussian generative model score :  0.8928269743919373\n",
      "Variational autoencoder model score:  0.8961132764816284\n"
     ]
    }
   ],
   "source": [
    "imgs_diagonal_gaussian = generate_images_diagonal_gaussian(ae_model,z_average,z_sigma,n_images = 50)\n",
    "imgs_non_diagonal_gaussian = generate_images_non_diagonal_gaussian(ae_model,z_average,z_covariance,n_images = 50)\n",
    "imgs_vae = generate_images_vae(vae_model,n_images=50)\n",
    "\n",
    "# average of maximum of first model \n",
    "diagonal_gaussian_score = float(generative_model_score(imgs_diagonal_gaussian,mnist_classification_model))\n",
    "non_diagonal_gaussian_score = float(generative_model_score(imgs_non_diagonal_gaussian,mnist_classification_model))\n",
    "vae_gaussian_score = float(generative_model_score(imgs_vae,mnist_classification_model))\n",
    "\n",
    "print(\"Diagonal gaussian generative model score : \",diagonal_gaussian_score)\n",
    "print(\"Non diagonal gaussian generative model score : \",non_diagonal_gaussian_score)\n",
    "print(\"Variational autoencoder model score: \",vae_gaussian_score) "
   ]
  },
  {
   "cell_type": "markdown",
   "metadata": {
    "id": "sxvsG8FC1gNS"
   },
   "source": [
    "Please answer the following questions:\n",
    "\n",
    "- Which model is better quantitatively ? \n",
    "- Do the quantitative result support the qualitative results ?\n",
    "- Can you see any drawbacks of this method of evaluation ?\n",
    "- Can you propose any more sophisticated models than the multivariate Gaussian approach (apart from the variational autoencoder) ? "
   ]
  },
  {
   "cell_type": "markdown",
   "metadata": {
    "id": "3SYCyfKR3G7Y"
   },
   "source": [
    "__Answer__\n",
    "\n",
    "Quantitatively, VAE and Gaussian non-diagonal are the best generative models. The quantitative results do support the qualitative results.\n",
    "\n",
    "This evaluation methods relies a lot on the quality of the classification network. Any bias in this network could result in a wrong evaluation of the models. Moreover, this method of evaluation only takes into account the probability of an output to be recognized by the classification network. This evaluation method does not reward other interesing features on the generated images, like for example smoothness of the numbers."
   ]
  }
 ],
 "metadata": {
  "accelerator": "GPU",
  "colab": {
   "provenance": []
  },
  "kernelspec": {
   "display_name": "Python 3 (ipykernel)",
   "language": "python",
   "name": "python3"
  },
  "language_info": {
   "codemirror_mode": {
    "name": "ipython",
    "version": 3
   },
   "file_extension": ".py",
   "mimetype": "text/x-python",
   "name": "python",
   "nbconvert_exporter": "python",
   "pygments_lexer": "ipython3",
   "version": "3.9.7"
  }
 },
 "nbformat": 4,
 "nbformat_minor": 1
}
